{
 "cells": [
  {
   "cell_type": "code",
   "execution_count": null,
   "id": "3aec0140-bb51-4864-a348-1a33e442282b",
   "metadata": {},
   "outputs": [],
   "source": [
    "#Q1. what is multithreading in python? why is it used? Name the module used to handle threads in python\n",
    "\n",
    "''' mutithread is used to execute the programs all at a time hitting servers paralley/cuncurrently rather one after another it is used to \n",
    "reduce the execution time, utilization of resources.\n",
    "\n",
    " module used is \"threading\"   .'''"
   ]
  },
  {
   "cell_type": "code",
   "execution_count": null,
   "id": "aa669d99-aa5b-40a5-80bb-334355c9c52f",
   "metadata": {},
   "outputs": [],
   "source": [
    "#Q2 why threading module used?write the use of the following functions\n",
    "\n",
    "\n",
    "'''threading module is used for creating and manageing threads effewctively'''\n",
    "\n",
    "'''activecount(): give the no of threads active at the time.\n",
    "\n",
    "currentThread(): This method returns a reference to the current thread object.\n",
    "\n",
    "enumerate(): This method returns a list of all thread objects that are currently active'''"
   ]
  },
  {
   "cell_type": "code",
   "execution_count": 20,
   "id": "d3b9ba7a-cdce-4fa0-8d27-e1c3a318441b",
   "metadata": {},
   "outputs": [
    {
     "data": {
      "text/plain": [
       "'run(): This is a method that you write yourself to define what the thread should do. It\\'s like a set of instructions that the thread will follow when it starts running.\\n\\nstart(): This method is like pressing the \"go\" button for your thread. When you call start(), a new thread is created and it starts running the run() method that you wrote.\\n\\njoin(): This method is like waiting for your thread to finish before you can continue with the rest of your code. When you call join(), your program will wait for the thread to finish running before moving on to the next line of code.\\n\\nisAlive(): This method is like checking to see if your thread is still doing something. When you call isAlive(), it will tell you if the thread is still running or if it has finished'"
      ]
     },
     "execution_count": 20,
     "metadata": {},
     "output_type": "execute_result"
    }
   ],
   "source": [
    "#Q3. Explain the following functions\n",
    "\n",
    "\n",
    "'''run(): This is a method that you write yourself to define what the thread should do. It's like a set of instructions that\n",
    "the thread will follow when it starts running.\n",
    "\n",
    "start(): This method is like pressing the \"go\" button for your thread. When you call start(), a new thread is \n",
    "created and it starts running the run() method that you wrote.\n",
    "\n",
    "join(): This method is like waiting for your thread to finish before you can continue with the rest of your code.\n",
    "When you call join(), your program will wait for the thread\n",
    "to finish running before moving on to the next line of code.\n",
    "\n",
    "isAlive(): This method is like checking to see if your thread is still doing something. When you call isAlive(), it will tell\n",
    "you if the thread is still running or if it has finished'''"
   ]
  },
  {
   "cell_type": "code",
   "execution_count": 15,
   "id": "9e671680-d55e-4ca0-86f9-87a669b63d3c",
   "metadata": {},
   "outputs": [],
   "source": [
    " #Q4. write a python program to create two threads. Thread one must print the list of squares and thread\n",
    "#two must print the list of cubes\n",
    "\n",
    "import threading\n",
    "def square(a):\n",
    "    print(\"the square of no is\",a**2)\n",
    "    \n",
    "def cube(b):\n",
    "    print(\"the cube of no is \",b**3)\n",
    "    \n",
    "\n",
    "\n",
    "thred1=[threading.Thread(target=square , args =(i,)) for i in [1,2,3,4,5,6]]\n",
    "thred2=[threading.Thread(target=cube , args =(i,)) for i in [5,6,7,8,9]]\n"
   ]
  },
  {
   "cell_type": "code",
   "execution_count": 16,
   "id": "cc3b684c-52e5-48a4-a82a-71ace02fed83",
   "metadata": {},
   "outputs": [
    {
     "name": "stdout",
     "output_type": "stream",
     "text": [
      "the square of no is 1\n",
      "the square of no is 4\n",
      "the square of no is 9\n",
      "the square of no is 16\n",
      "the square of no is 25\n",
      "the square of no is 36\n"
     ]
    }
   ],
   "source": [
    "for t in thred1:\n",
    "    t.start()"
   ]
  },
  {
   "cell_type": "code",
   "execution_count": 18,
   "id": "d9338323-ae29-4c7f-a14f-b74a2972c4cf",
   "metadata": {},
   "outputs": [
    {
     "name": "stdout",
     "output_type": "stream",
     "text": [
      "the cube of no is  125\n",
      "the cube of no is  216\n",
      "the cube of no is  343\n",
      "the cube of no is  512\n",
      "the cube of no is  729\n"
     ]
    }
   ],
   "source": [
    "for r in thred2:\n",
    "    r.start()"
   ]
  },
  {
   "cell_type": "code",
   "execution_count": null,
   "id": "cac9b667-da31-4d86-b25f-0470d428e5b5",
   "metadata": {},
   "outputs": [],
   "source": [
    "#Q5. State advantages and disadvantages of multithreading\n",
    "\n",
    "'''advantage: * less time consumption\n",
    "           * resource utiliziation\n",
    "           * increased responciveness\n",
    "disadvantages: *Error prone\n",
    "                *complex\n",
    "                *debugging is difficult'''\n",
    "\n"
   ]
  },
  {
   "cell_type": "code",
   "execution_count": 19,
   "id": "616aee50-38d6-4efb-bb94-28df53f2bb2a",
   "metadata": {},
   "outputs": [
    {
     "data": {
      "text/plain": [
       "'deadlock is a condition raised when 2 or more threads are blocked from executing as it is waiting\\neach other to release resource.\\n\\nrace codition: when 2 or more thread are processes to acess the  sameresource simultaneosly results in \\nerror'"
      ]
     },
     "execution_count": 19,
     "metadata": {},
     "output_type": "execute_result"
    }
   ],
   "source": [
    "#Q6. Explain deadlocks and race conditions.\n",
    "\n",
    "'''deadlock is a condition raised when 2 or more threads are blocked from executing as it is waiting\n",
    "each other to release resource.\n",
    "\n",
    "race codition: when 2 or more thread are processes to acess the  sameresource simultaneosly results in \n",
    "error'''\n",
    "\n"
   ]
  },
  {
   "cell_type": "code",
   "execution_count": null,
   "id": "1059395e-9011-4a47-8c30-8fb2f55ca408",
   "metadata": {},
   "outputs": [],
   "source": []
  }
 ],
 "metadata": {
  "kernelspec": {
   "display_name": "Python 3 (ipykernel)",
   "language": "python",
   "name": "python3"
  },
  "language_info": {
   "codemirror_mode": {
    "name": "ipython",
    "version": 3
   },
   "file_extension": ".py",
   "mimetype": "text/x-python",
   "name": "python",
   "nbconvert_exporter": "python",
   "pygments_lexer": "ipython3",
   "version": "3.10.8"
  }
 },
 "nbformat": 4,
 "nbformat_minor": 5
}
